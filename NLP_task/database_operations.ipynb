{
 "cells": [
  {
   "cell_type": "code",
   "execution_count": 1,
   "id": "daf66a30",
   "metadata": {},
   "outputs": [],
   "source": [
    "# Ad-Soyad:İrem ÇATAL\n",
    "# Son Revize Tarihi: 15.02.2024"
   ]
  },
  {
   "cell_type": "code",
   "execution_count": 2,
   "id": "9fc41787",
   "metadata": {},
   "outputs": [],
   "source": [
    "import sqlite3"
   ]
  },
  {
   "cell_type": "code",
   "execution_count": 3,
   "id": "59a126c4",
   "metadata": {},
   "outputs": [],
   "source": [
    "conn = sqlite3.connect('nlp_project.db')\n",
    "c = conn.cursor()"
   ]
  },
  {
   "cell_type": "code",
   "execution_count": 4,
   "id": "7067fd23",
   "metadata": {},
   "outputs": [
    {
     "data": {
      "text/plain": [
       "<sqlite3.Cursor at 0x10556d640>"
      ]
     },
     "execution_count": 4,
     "metadata": {},
     "output_type": "execute_result"
    }
   ],
   "source": [
    "c.execute('''\n",
    "          CREATE TABLE IF NOT EXISTS texts\n",
    "          ([generated_id] INTEGER PRIMARY KEY, [text] text, [main_topic] text)\n",
    "          ''')"
   ]
  },
  {
   "cell_type": "code",
   "execution_count": 5,
   "id": "090c46f8",
   "metadata": {},
   "outputs": [],
   "source": [
    "def add_text_to_db(text, main_topic):\n",
    "    c.execute('''\n",
    "              INSERT INTO texts (text, main_topic)\n",
    "              VALUES (?, ?)\n",
    "              ''', (text, main_topic))\n",
    "    conn.commit()"
   ]
  },
  {
   "cell_type": "code",
   "execution_count": 6,
   "id": "7a4fdb4b",
   "metadata": {},
   "outputs": [],
   "source": [
    "def get_texts_from_db(main_topic=None):\n",
    "    if main_topic:\n",
    "        c.execute('''\n",
    "                  SELECT * FROM texts WHERE main_topic = ?\n",
    "                  ''', (main_topic,))\n",
    "    else:\n",
    "        c.execute('''\n",
    "                  SELECT * FROM texts\n",
    "                  ''')\n",
    "    return c.fetchall()"
   ]
  },
  {
   "cell_type": "code",
   "execution_count": null,
   "id": "dac033bf",
   "metadata": {},
   "outputs": [],
   "source": []
  },
  {
   "cell_type": "code",
   "execution_count": null,
   "id": "fa1732c3",
   "metadata": {},
   "outputs": [],
   "source": []
  }
 ],
 "metadata": {
  "kernelspec": {
   "display_name": "Python 3 (ipykernel)",
   "language": "python",
   "name": "python3"
  },
  "language_info": {
   "codemirror_mode": {
    "name": "ipython",
    "version": 3
   },
   "file_extension": ".py",
   "mimetype": "text/x-python",
   "name": "python",
   "nbconvert_exporter": "python",
   "pygments_lexer": "ipython3",
   "version": "3.10.9"
  }
 },
 "nbformat": 4,
 "nbformat_minor": 5
}
